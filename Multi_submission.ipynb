{
 "cells": [
  {
   "cell_type": "code",
   "execution_count": 8,
   "metadata": {},
   "outputs": [
    {
     "name": "stdout",
     "output_type": "stream",
     "text": [
      "0.6709494022796776\n"
     ]
    },
    {
     "data": {
      "image/png": "[encoded data removed]",
      "text/plain": [
       "<Figure size 432x288 with 2 Axes>"
      ]
     },
     "metadata": {
      "needs_background": "light"
     },
     "output_type": "display_data"
    }
   ],
   "source": [
    "import numpy as np\n",
    "import pandas as pd\n",
    "import xgboost as xgb\n",
    "\n",
    "from sklearn.decomposition import KernelPCA\n",
    "from sklearn.pipeline import Pipeline\n",
    "from sklearn.preprocessing import StandardScaler\n",
    "from sklearn.model_selection import cross_val_score, cross_val_predict\n",
    "from sklearn.metrics import confusion_matrix, ConfusionMatrixDisplay\n",
    "\n",
    "#Read both datasets\n",
    "TrainSet = pd.read_csv('TrainingDataMulti.csv')\n",
    "TestSet = pd.read_csv('TestingDataMulti.csv')\n",
    "\n",
    "#Seperate the data and the labels \n",
    "TrainLabels = TrainSet.iloc[:,128]\n",
    "TrainSet = TrainSet.drop(TrainSet.columns[128], axis =1)\n",
    "\n",
    "#Instantiate the PCA and the scaler\n",
    "pca = KernelPCA()\n",
    "scaler = StandardScaler()\n",
    "\n",
    "#Instantiate the XGBoost classifier\n",
    "#'multi:softmax' indicates it is multiclass classification with softmax\n",
    "#'gbtree' is the solver used\n",
    "rf = xgb.XGBClassifier(objective=\"multi:softmax\", booster = 'gbtree')\n",
    "\n",
    "#Define the pipeline\n",
    "pipe = Pipeline(steps=[(\"scaler\", scaler), (\"pca\", pca), (\"rf\", rf)])\n",
    "\n",
    "#Get accuracy for each cross validation fold and print the average\n",
    "scores = cross_val_score(pipe, TrainSet, TrainLabels, cv=5)\n",
    "print(scores.mean())\n",
    "\n",
    "#Plot a confusion matrix\n",
    "y_pred = cross_val_predict(pipe, TrainSet, TrainLabels, cv=5)\n",
    "conf_mat = confusion_matrix(TrainLabels, y_pred)\n",
    "ConfusionMatrixDisplay(conf_mat).plot()\n",
    "\n",
    "#Predict the unknown values\n",
    "pipe.fit(TrainSet.values, TrainLabels.values)\n",
    "result = pipe.predict(TestSet.values)\n",
    "\n"
   ]
  },
  {
   "cell_type": "code",
   "execution_count": 9,
   "metadata": {},
   "outputs": [
    {
     "data": {
      "text/plain": [
       "array([1, 1, 1, 1, 1, 1, 1, 2, 1, 2, 1, 1, 1, 1, 1, 0, 1, 1, 1, 1, 2, 1,\n",
       "       1, 1, 1, 2, 2, 2, 0, 0, 0, 0, 1, 1, 1, 1, 1, 2, 2, 1, 2, 0, 1, 1,\n",
       "       1, 1, 2, 2, 1, 1, 1, 1, 2, 2, 1, 1, 1, 1, 1, 1, 1, 1, 1, 1, 1, 0,\n",
       "       0, 0, 0, 0, 0, 0, 0, 0, 0, 0, 0, 0, 0, 0, 0, 0, 0, 2, 1, 1, 1, 1,\n",
       "       1, 1, 0, 1, 0, 0, 0, 0, 0, 0, 0])"
      ]
     },
     "execution_count": 9,
     "metadata": {},
     "output_type": "execute_result"
    }
   ],
   "source": [
    "result"
   ]
  }
 ],
 "metadata": {
  "kernelspec": {
   "display_name": "Python 3",
   "language": "python",
   "name": "python3"
  },
  "language_info": {
   "codemirror_mode": {
    "name": "ipython",
    "version": 3
   },
   "file_extension": ".py",
   "mimetype": "text/x-python",
   "name": "python",
   "nbconvert_exporter": "python",
   "pygments_lexer": "ipython3",
   "version": "3.8.0"
  },
  "orig_nbformat": 4
 },
 "nbformat": 4,
 "nbformat_minor": 2
}
